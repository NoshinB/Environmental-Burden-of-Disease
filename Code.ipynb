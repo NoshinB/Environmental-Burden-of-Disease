{
 "cells": [
  {
   "cell_type": "code",
   "execution_count": 1,
   "metadata": {},
   "outputs": [],
   "source": [
    "%matplotlib inline"
   ]
  },
  {
   "cell_type": "code",
   "execution_count": 2,
   "metadata": {},
   "outputs": [],
   "source": [
    "import numpy as np\n",
    "import pandas as pd\n",
    "import matplotlib as mpl\n",
    "import matplotlib.pyplot as plt\n",
    "import warnings\n",
    "warnings.filterwarnings('ignore')\n",
    "# For unit testing answers.\n",
    "from unittest.mock import patch, Mock"
   ]
  },
  {
   "cell_type": "markdown",
   "metadata": {},
   "source": [
    "# Reading the data"
   ]
  },
  {
   "cell_type": "code",
   "execution_count": 3,
   "metadata": {
    "scrolled": true
   },
   "outputs": [
    {
     "data": {
      "text/html": [
       "<div>\n",
       "<style scoped>\n",
       "    .dataframe tbody tr th:only-of-type {\n",
       "        vertical-align: middle;\n",
       "    }\n",
       "\n",
       "    .dataframe tbody tr th {\n",
       "        vertical-align: top;\n",
       "    }\n",
       "\n",
       "    .dataframe thead th {\n",
       "        text-align: right;\n",
       "    }\n",
       "</style>\n",
       "<table border=\"1\" class=\"dataframe\">\n",
       "  <thead>\n",
       "    <tr style=\"text-align: right;\">\n",
       "      <th></th>\n",
       "      <th>Updated Table A2.3. Deaths attributable to the environment, by WHO region and income status, 2016§</th>\n",
       "      <th>Unnamed: 1</th>\n",
       "      <th>Unnamed: 2</th>\n",
       "      <th>Unnamed: 3</th>\n",
       "      <th>Unnamed: 4</th>\n",
       "      <th>Unnamed: 5</th>\n",
       "      <th>Unnamed: 6</th>\n",
       "      <th>Unnamed: 7</th>\n",
       "      <th>Unnamed: 8</th>\n",
       "      <th>Unnamed: 9</th>\n",
       "      <th>Unnamed: 10</th>\n",
       "      <th>Unnamed: 11</th>\n",
       "      <th>Unnamed: 12</th>\n",
       "    </tr>\n",
       "  </thead>\n",
       "  <tbody>\n",
       "    <tr>\n",
       "      <th>0</th>\n",
       "      <td>NaN</td>\n",
       "      <td>World</td>\n",
       "      <td>World</td>\n",
       "      <td>Africa</td>\n",
       "      <td>Americas</td>\n",
       "      <td>NaN</td>\n",
       "      <td>Eastern Mediterranean</td>\n",
       "      <td>NaN</td>\n",
       "      <td>Europe</td>\n",
       "      <td>NaN</td>\n",
       "      <td>South-East Asia</td>\n",
       "      <td>Western Pacific</td>\n",
       "      <td>NaN</td>\n",
       "    </tr>\n",
       "    <tr>\n",
       "      <th>1</th>\n",
       "      <td>NaN</td>\n",
       "      <td>Total \\n(all ages)</td>\n",
       "      <td>\\n0-4 years</td>\n",
       "      <td>All</td>\n",
       "      <td>HIC</td>\n",
       "      <td>LMIC</td>\n",
       "      <td>HIC</td>\n",
       "      <td>LMIC</td>\n",
       "      <td>HIC</td>\n",
       "      <td>LMIC</td>\n",
       "      <td>All</td>\n",
       "      <td>HIC</td>\n",
       "      <td>LMIC</td>\n",
       "    </tr>\n",
       "    <tr>\n",
       "      <th>2</th>\n",
       "      <td>Population</td>\n",
       "      <td>7430261888</td>\n",
       "      <td>673904396</td>\n",
       "      <td>1019920205</td>\n",
       "      <td>382020167</td>\n",
       "      <td>610136393</td>\n",
       "      <td>54017611</td>\n",
       "      <td>610317786</td>\n",
       "      <td>499400125</td>\n",
       "      <td>416914475</td>\n",
       "      <td>1947631149</td>\n",
       "      <td>213384103</td>\n",
       "      <td>1676519874</td>\n",
       "    </tr>\n",
       "    <tr>\n",
       "      <th>3</th>\n",
       "      <td>Total deaths</td>\n",
       "      <td>56188823</td>\n",
       "      <td>5599415</td>\n",
       "      <td>8715561</td>\n",
       "      <td>3162224</td>\n",
       "      <td>3603281</td>\n",
       "      <td>155238</td>\n",
       "      <td>3934487</td>\n",
       "      <td>4830599</td>\n",
       "      <td>4317888</td>\n",
       "      <td>13754870</td>\n",
       "      <td>1794181</td>\n",
       "      <td>11920494</td>\n",
       "    </tr>\n",
       "    <tr>\n",
       "      <th>4</th>\n",
       "      <td>Total environmental deaths</td>\n",
       "      <td>13668365</td>\n",
       "      <td>1573296</td>\n",
       "      <td>2534165</td>\n",
       "      <td>421463</td>\n",
       "      <td>684808</td>\n",
       "      <td>37812</td>\n",
       "      <td>945743</td>\n",
       "      <td>696167</td>\n",
       "      <td>659833</td>\n",
       "      <td>4068942</td>\n",
       "      <td>268195</td>\n",
       "      <td>3349445</td>\n",
       "    </tr>\n",
       "    <tr>\n",
       "      <th>...</th>\n",
       "      <td>...</td>\n",
       "      <td>...</td>\n",
       "      <td>...</td>\n",
       "      <td>...</td>\n",
       "      <td>...</td>\n",
       "      <td>...</td>\n",
       "      <td>...</td>\n",
       "      <td>...</td>\n",
       "      <td>...</td>\n",
       "      <td>...</td>\n",
       "      <td>...</td>\n",
       "      <td>...</td>\n",
       "      <td>...</td>\n",
       "    </tr>\n",
       "    <tr>\n",
       "      <th>87</th>\n",
       "      <td>WHO regional groupings: World Health Sta...</td>\n",
       "      <td>NaN</td>\n",
       "      <td>NaN</td>\n",
       "      <td>NaN</td>\n",
       "      <td>NaN</td>\n",
       "      <td>NaN</td>\n",
       "      <td>NaN</td>\n",
       "      <td>NaN</td>\n",
       "      <td>NaN</td>\n",
       "      <td>NaN</td>\n",
       "      <td>NaN</td>\n",
       "      <td>NaN</td>\n",
       "      <td>NaN</td>\n",
       "    </tr>\n",
       "    <tr>\n",
       "      <th>88</th>\n",
       "      <td>see \"Country grouping\" worksheet of this...</td>\n",
       "      <td>NaN</td>\n",
       "      <td>NaN</td>\n",
       "      <td>NaN</td>\n",
       "      <td>NaN</td>\n",
       "      <td>NaN</td>\n",
       "      <td>NaN</td>\n",
       "      <td>NaN</td>\n",
       "      <td>NaN</td>\n",
       "      <td>NaN</td>\n",
       "      <td>NaN</td>\n",
       "      <td>NaN</td>\n",
       "      <td>NaN</td>\n",
       "    </tr>\n",
       "    <tr>\n",
       "      <th>89</th>\n",
       "      <td># Malnutrition and consequences</td>\n",
       "      <td>NaN</td>\n",
       "      <td>NaN</td>\n",
       "      <td>NaN</td>\n",
       "      <td>NaN</td>\n",
       "      <td>NaN</td>\n",
       "      <td>NaN</td>\n",
       "      <td>NaN</td>\n",
       "      <td>NaN</td>\n",
       "      <td>NaN</td>\n",
       "      <td>NaN</td>\n",
       "      <td>NaN</td>\n",
       "      <td>NaN</td>\n",
       "    </tr>\n",
       "    <tr>\n",
       "      <th>90</th>\n",
       "      <td>HIC:    High-income countries</td>\n",
       "      <td>NaN</td>\n",
       "      <td>NaN</td>\n",
       "      <td>NaN</td>\n",
       "      <td>NaN</td>\n",
       "      <td>NaN</td>\n",
       "      <td>NaN</td>\n",
       "      <td>NaN</td>\n",
       "      <td>NaN</td>\n",
       "      <td>NaN</td>\n",
       "      <td>NaN</td>\n",
       "      <td>NaN</td>\n",
       "      <td>NaN</td>\n",
       "    </tr>\n",
       "    <tr>\n",
       "      <th>91</th>\n",
       "      <td>LMIC:  Low- and middle-income countries</td>\n",
       "      <td>NaN</td>\n",
       "      <td>NaN</td>\n",
       "      <td>NaN</td>\n",
       "      <td>NaN</td>\n",
       "      <td>NaN</td>\n",
       "      <td>NaN</td>\n",
       "      <td>NaN</td>\n",
       "      <td>NaN</td>\n",
       "      <td>NaN</td>\n",
       "      <td>NaN</td>\n",
       "      <td>NaN</td>\n",
       "      <td>NaN</td>\n",
       "    </tr>\n",
       "  </tbody>\n",
       "</table>\n",
       "<p>92 rows × 13 columns</p>\n",
       "</div>"
      ],
      "text/plain": [
       "   Updated Table A2.3. Deaths attributable to the environment, by WHO region and income status, 2016§  \\\n",
       "0                                                 NaN                                                   \n",
       "1                                                 NaN                                                   \n",
       "2                                         Population                                                    \n",
       "3                                        Total deaths                                                   \n",
       "4                          Total environmental deaths                                                   \n",
       "..                                                ...                                                   \n",
       "87        WHO regional groupings: World Health Sta...                                                   \n",
       "88        see \"Country grouping\" worksheet of this...                                                   \n",
       "89                    # Malnutrition and consequences                                                   \n",
       "90                      HIC:    High-income countries                                                   \n",
       "91            LMIC:  Low- and middle-income countries                                                   \n",
       "\n",
       "            Unnamed: 1   Unnamed: 2  Unnamed: 3 Unnamed: 4 Unnamed: 5  \\\n",
       "0                World        World      Africa   Americas        NaN   \n",
       "1   Total \\n(all ages)  \\n0-4 years         All        HIC       LMIC   \n",
       "2           7430261888    673904396  1019920205  382020167  610136393   \n",
       "3             56188823      5599415     8715561    3162224    3603281   \n",
       "4             13668365      1573296     2534165     421463     684808   \n",
       "..                 ...          ...         ...        ...        ...   \n",
       "87                 NaN          NaN         NaN        NaN        NaN   \n",
       "88                 NaN          NaN         NaN        NaN        NaN   \n",
       "89                 NaN          NaN         NaN        NaN        NaN   \n",
       "90                 NaN          NaN         NaN        NaN        NaN   \n",
       "91                 NaN          NaN         NaN        NaN        NaN   \n",
       "\n",
       "               Unnamed: 6 Unnamed: 7 Unnamed: 8 Unnamed: 9      Unnamed: 10  \\\n",
       "0   Eastern Mediterranean        NaN     Europe        NaN  South-East Asia   \n",
       "1                     HIC       LMIC        HIC       LMIC              All   \n",
       "2                54017611  610317786  499400125  416914475       1947631149   \n",
       "3                  155238    3934487    4830599    4317888         13754870   \n",
       "4                   37812     945743     696167     659833          4068942   \n",
       "..                    ...        ...        ...        ...              ...   \n",
       "87                    NaN        NaN        NaN        NaN              NaN   \n",
       "88                    NaN        NaN        NaN        NaN              NaN   \n",
       "89                    NaN        NaN        NaN        NaN              NaN   \n",
       "90                    NaN        NaN        NaN        NaN              NaN   \n",
       "91                    NaN        NaN        NaN        NaN              NaN   \n",
       "\n",
       "        Unnamed: 11 Unnamed: 12  \n",
       "0   Western Pacific         NaN  \n",
       "1               HIC        LMIC  \n",
       "2         213384103  1676519874  \n",
       "3           1794181    11920494  \n",
       "4            268195     3349445  \n",
       "..              ...         ...  \n",
       "87              NaN         NaN  \n",
       "88              NaN         NaN  \n",
       "89              NaN         NaN  \n",
       "90              NaN         NaN  \n",
       "91              NaN         NaN  \n",
       "\n",
       "[92 rows x 13 columns]"
      ]
     },
     "execution_count": 3,
     "metadata": {},
     "output_type": "execute_result"
    }
   ],
   "source": [
    "df = pd.read_excel(r'C:\\Users\\noshi\\OneDrive\\Desktop\\Computer Science\\Computer Science 2020-2021\\Data visualisation and the web\\Project\\Noshin Begum Data Visualisations and The Web Project\\Code\\Data-tables-disease-deaths.xlsx', sheet_name='Deaths')\n",
    "\n",
    "# Show both the head and tail of the dataset.\n",
    "df"
   ]
  },
  {
   "cell_type": "markdown",
   "metadata": {},
   "source": [
    "# Reading data- specific fields"
   ]
  },
  {
   "cell_type": "code",
   "execution_count": 4,
   "metadata": {},
   "outputs": [
    {
     "data": {
      "text/html": [
       "<div>\n",
       "<style scoped>\n",
       "    .dataframe tbody tr th:only-of-type {\n",
       "        vertical-align: middle;\n",
       "    }\n",
       "\n",
       "    .dataframe tbody tr th {\n",
       "        vertical-align: top;\n",
       "    }\n",
       "\n",
       "    .dataframe thead th {\n",
       "        text-align: right;\n",
       "    }\n",
       "</style>\n",
       "<table border=\"1\" class=\"dataframe\">\n",
       "  <thead>\n",
       "    <tr style=\"text-align: right;\">\n",
       "      <th></th>\n",
       "      <th>Europe</th>\n",
       "      <th>South-East Asia</th>\n",
       "    </tr>\n",
       "  </thead>\n",
       "  <tbody>\n",
       "    <tr>\n",
       "      <th>Population</th>\n",
       "      <td>499400125</td>\n",
       "      <td>1947631149</td>\n",
       "    </tr>\n",
       "    <tr>\n",
       "      <th>Total deaths</th>\n",
       "      <td>4830599</td>\n",
       "      <td>13754870</td>\n",
       "    </tr>\n",
       "    <tr>\n",
       "      <th>Total environmental deaths</th>\n",
       "      <td>696167</td>\n",
       "      <td>4068942</td>\n",
       "    </tr>\n",
       "    <tr>\n",
       "      <th>Lower respiratory infections</th>\n",
       "      <td>41849</td>\n",
       "      <td>443276</td>\n",
       "    </tr>\n",
       "    <tr>\n",
       "      <th>Diarrhoeal diseases</th>\n",
       "      <td>1210.79</td>\n",
       "      <td>295070</td>\n",
       "    </tr>\n",
       "    <tr>\n",
       "      <th>Malaria</th>\n",
       "      <td>0</td>\n",
       "      <td>21148</td>\n",
       "    </tr>\n",
       "    <tr>\n",
       "      <th>Tuberculosis</th>\n",
       "      <td>683.498</td>\n",
       "      <td>123686</td>\n",
       "    </tr>\n",
       "    <tr>\n",
       "      <th>Trachea, bronchus, lung cancers</th>\n",
       "      <td>110544</td>\n",
       "      <td>96016</td>\n",
       "    </tr>\n",
       "    <tr>\n",
       "      <th>Other cancers*</th>\n",
       "      <td>144055</td>\n",
       "      <td>182387</td>\n",
       "    </tr>\n",
       "    <tr>\n",
       "      <th>Stroke</th>\n",
       "      <td>46356.6</td>\n",
       "      <td>392720</td>\n",
       "    </tr>\n",
       "    <tr>\n",
       "      <th>Asthma</th>\n",
       "      <td>3730.96</td>\n",
       "      <td>107427</td>\n",
       "    </tr>\n",
       "    <tr>\n",
       "      <th>Other respiratory diseases</th>\n",
       "      <td>2853.58</td>\n",
       "      <td>3297</td>\n",
       "    </tr>\n",
       "  </tbody>\n",
       "</table>\n",
       "</div>"
      ],
      "text/plain": [
       "                                    Europe South-East Asia\n",
       "Population                       499400125      1947631149\n",
       "Total deaths                       4830599        13754870\n",
       "Total environmental deaths          696167         4068942\n",
       "Lower respiratory infections         41849          443276\n",
       "Diarrhoeal diseases                1210.79          295070\n",
       "Malaria                                  0           21148\n",
       "Tuberculosis                       683.498          123686\n",
       "Trachea, bronchus, lung cancers     110544           96016\n",
       "Other cancers*                      144055          182387\n",
       "Stroke                             46356.6          392720\n",
       "Asthma                             3730.96          107427\n",
       "Other respiratory diseases         2853.58            3297"
      ]
     },
     "execution_count": 4,
     "metadata": {},
     "output_type": "execute_result"
    }
   ],
   "source": [
    "# Read specific columns\n",
    "df = pd.read_excel(r'C:\\Users\\noshi\\OneDrive\\Desktop\\Computer Science\\Computer Science 2020-2021\\Data visualisation and the web\\Project\\Noshin Begum Data Visualisations and The Web Project\\Code\\Data-tables-disease-deaths.xlsx', sheet_name='Deaths', index_col = 0, usecols = [0, 8, 10], skiprows = [0])\n",
    "\n",
    "# Get the specific rows on the diseases I am comparing\n",
    "select_rows = df.iloc[[1, 2, 3, 7, 9, 12, 24, 31, 32, 58, 62, 63]]\n",
    "\n",
    "select_rows"
   ]
  },
  {
   "cell_type": "markdown",
   "metadata": {},
   "source": [
    "# Clean data"
   ]
  },
  {
   "cell_type": "code",
   "execution_count": 5,
   "metadata": {},
   "outputs": [
    {
     "data": {
      "text/plain": [
       "(12, 2)"
      ]
     },
     "execution_count": 5,
     "metadata": {},
     "output_type": "execute_result"
    }
   ],
   "source": [
    "# How many rows and columns\n",
    "select_rows.shape"
   ]
  },
  {
   "cell_type": "code",
   "execution_count": 6,
   "metadata": {},
   "outputs": [],
   "source": [
    "# Changing data type to int\n",
    "select_rows['Europe'] = select_rows['Europe'].astype(int)"
   ]
  },
  {
   "cell_type": "code",
   "execution_count": 7,
   "metadata": {},
   "outputs": [],
   "source": [
    "# Changing data type to int\n",
    "select_rows['South-East Asia'] = select_rows['South-East Asia'].astype(int)"
   ]
  },
  {
   "cell_type": "code",
   "execution_count": 8,
   "metadata": {},
   "outputs": [
    {
     "data": {
      "text/plain": [
       "Europe             int32\n",
       "South-East Asia    int32\n",
       "dtype: object"
      ]
     },
     "execution_count": 8,
     "metadata": {},
     "output_type": "execute_result"
    }
   ],
   "source": [
    "# Checking data types\n",
    "select_rows.dtypes"
   ]
  },
  {
   "cell_type": "code",
   "execution_count": 9,
   "metadata": {},
   "outputs": [
    {
     "data": {
      "text/plain": [
       "Europe             0\n",
       "South-East Asia    0\n",
       "dtype: int64"
      ]
     },
     "execution_count": 9,
     "metadata": {},
     "output_type": "execute_result"
    }
   ],
   "source": [
    "# Checking for missing data\n",
    "select_rows.isnull().sum()"
   ]
  },
  {
   "cell_type": "code",
   "execution_count": 10,
   "metadata": {},
   "outputs": [
    {
     "data": {
      "text/plain": [
       "0"
      ]
     },
     "execution_count": 10,
     "metadata": {},
     "output_type": "execute_result"
    }
   ],
   "source": [
    "# Checking for duplicated data\n",
    "select_rows.duplicated().sum()"
   ]
  },
  {
   "cell_type": "markdown",
   "metadata": {},
   "source": [
    "# Data Manipulations"
   ]
  },
  {
   "cell_type": "markdown",
   "metadata": {},
   "source": [
    "### Differences in population and deaths in South-East Asia vs Europe"
   ]
  },
  {
   "cell_type": "code",
   "execution_count": 11,
   "metadata": {},
   "outputs": [
    {
     "data": {
      "text/plain": [
       "Population                         1448231024\n",
       "Total deaths                          8924271\n",
       "Total environmental deaths            3372775\n",
       "Lower respiratory infections           401428\n",
       "Diarrhoeal diseases                    293860\n",
       "Malaria                                 21148\n",
       "Tuberculosis                           123003\n",
       "Trachea, bronchus, lung cancers        -14527\n",
       "Other cancers*                          38332\n",
       "Stroke                                 346364\n",
       "Asthma                                 103697\n",
       "Other respiratory diseases                444\n",
       "dtype: int32"
      ]
     },
     "execution_count": 11,
     "metadata": {},
     "output_type": "execute_result"
    }
   ],
   "source": [
    "# Differences between number of deaths associated with the disease in South-East Asia vs Europe\n",
    "difference = (select_rows['South-East Asia'] - select_rows['Europe'])\n",
    "difference"
   ]
  },
  {
   "cell_type": "code",
   "execution_count": 16,
   "metadata": {},
   "outputs": [
    {
     "data": {
      "text/html": [
       "<div>\n",
       "<style scoped>\n",
       "    .dataframe tbody tr th:only-of-type {\n",
       "        vertical-align: middle;\n",
       "    }\n",
       "\n",
       "    .dataframe tbody tr th {\n",
       "        vertical-align: top;\n",
       "    }\n",
       "\n",
       "    .dataframe thead th {\n",
       "        text-align: right;\n",
       "    }\n",
       "</style>\n",
       "<table border=\"1\" class=\"dataframe\">\n",
       "  <thead>\n",
       "    <tr style=\"text-align: right;\">\n",
       "      <th></th>\n",
       "      <th>Europe</th>\n",
       "      <th>South-East Asia</th>\n",
       "    </tr>\n",
       "  </thead>\n",
       "  <tbody>\n",
       "    <tr>\n",
       "      <th>Population</th>\n",
       "      <td>499400125</td>\n",
       "      <td>1947631149</td>\n",
       "    </tr>\n",
       "    <tr>\n",
       "      <th>Total deaths</th>\n",
       "      <td>4830599</td>\n",
       "      <td>13754870</td>\n",
       "    </tr>\n",
       "    <tr>\n",
       "      <th>Total environmental deaths</th>\n",
       "      <td>696167</td>\n",
       "      <td>4068942</td>\n",
       "    </tr>\n",
       "  </tbody>\n",
       "</table>\n",
       "</div>"
      ],
      "text/plain": [
       "                               Europe  South-East Asia\n",
       "Population                  499400125       1947631149\n",
       "Total deaths                  4830599         13754870\n",
       "Total environmental deaths     696167          4068942"
      ]
     },
     "execution_count": 16,
     "metadata": {},
     "output_type": "execute_result"
    }
   ],
   "source": [
    "# Population and deaths information\n",
    "select_rows.head(3)"
   ]
  },
  {
   "cell_type": "code",
   "execution_count": 22,
   "metadata": {},
   "outputs": [
    {
     "data": {
      "text/html": [
       "<div>\n",
       "<style scoped>\n",
       "    .dataframe tbody tr th:only-of-type {\n",
       "        vertical-align: middle;\n",
       "    }\n",
       "\n",
       "    .dataframe tbody tr th {\n",
       "        vertical-align: top;\n",
       "    }\n",
       "\n",
       "    .dataframe thead th {\n",
       "        text-align: right;\n",
       "    }\n",
       "</style>\n",
       "<table border=\"1\" class=\"dataframe\">\n",
       "  <thead>\n",
       "    <tr style=\"text-align: right;\">\n",
       "      <th></th>\n",
       "      <th>Europe</th>\n",
       "      <th>South-East Asia</th>\n",
       "    </tr>\n",
       "  </thead>\n",
       "  <tbody>\n",
       "    <tr>\n",
       "      <th>Lower respiratory infections</th>\n",
       "      <td>41848</td>\n",
       "      <td>443276</td>\n",
       "    </tr>\n",
       "    <tr>\n",
       "      <th>Diarrhoeal diseases</th>\n",
       "      <td>1210</td>\n",
       "      <td>295070</td>\n",
       "    </tr>\n",
       "    <tr>\n",
       "      <th>Malaria</th>\n",
       "      <td>0</td>\n",
       "      <td>21148</td>\n",
       "    </tr>\n",
       "    <tr>\n",
       "      <th>Tuberculosis</th>\n",
       "      <td>683</td>\n",
       "      <td>123686</td>\n",
       "    </tr>\n",
       "    <tr>\n",
       "      <th>Trachea, bronchus, lung cancers</th>\n",
       "      <td>110543</td>\n",
       "      <td>96016</td>\n",
       "    </tr>\n",
       "    <tr>\n",
       "      <th>Other cancers*</th>\n",
       "      <td>144055</td>\n",
       "      <td>182387</td>\n",
       "    </tr>\n",
       "    <tr>\n",
       "      <th>Stroke</th>\n",
       "      <td>46356</td>\n",
       "      <td>392720</td>\n",
       "    </tr>\n",
       "    <tr>\n",
       "      <th>Asthma</th>\n",
       "      <td>3730</td>\n",
       "      <td>107427</td>\n",
       "    </tr>\n",
       "    <tr>\n",
       "      <th>Other respiratory diseases</th>\n",
       "      <td>2853</td>\n",
       "      <td>3297</td>\n",
       "    </tr>\n",
       "  </tbody>\n",
       "</table>\n",
       "</div>"
      ],
      "text/plain": [
       "                                 Europe  South-East Asia\n",
       "Lower respiratory infections      41848           443276\n",
       "Diarrhoeal diseases                1210           295070\n",
       "Malaria                               0            21148\n",
       "Tuberculosis                        683           123686\n",
       "Trachea, bronchus, lung cancers  110543            96016\n",
       "Other cancers*                   144055           182387\n",
       "Stroke                            46356           392720\n",
       "Asthma                             3730           107427\n",
       "Other respiratory diseases         2853             3297"
      ]
     },
     "execution_count": 22,
     "metadata": {},
     "output_type": "execute_result"
    }
   ],
   "source": [
    "# Disease related deaths information\n",
    "select_rows.iloc[3:12]"
   ]
  },
  {
   "cell_type": "markdown",
   "metadata": {},
   "source": [
    "### South-East Asia- disease related deaths as percentage of population"
   ]
  },
  {
   "cell_type": "code",
   "execution_count": 76,
   "metadata": {},
   "outputs": [
    {
     "data": {
      "text/plain": [
       "0.023"
      ]
     },
     "execution_count": 76,
     "metadata": {},
     "output_type": "execute_result"
    }
   ],
   "source": [
    "# South-East Asia- lower respiratory infections percentage deaths\n",
    "perlri = (select_rows['South-East Asia'].iloc[3] / select_rows['South-East Asia'].iloc[0])\n",
    "perlri = perlri * 100\n",
    "perlri.round(3)"
   ]
  },
  {
   "cell_type": "code",
   "execution_count": 75,
   "metadata": {},
   "outputs": [
    {
     "data": {
      "text/plain": [
       "0.015"
      ]
     },
     "execution_count": 75,
     "metadata": {},
     "output_type": "execute_result"
    }
   ],
   "source": [
    "# South-East Asia- Diarrhoeal diseases percentage deaths\n",
    "perdd = (select_rows['South-East Asia'].iloc[4] / select_rows['South-East Asia'].iloc[0])\n",
    "perdd = perdd * 100\n",
    "perdd.round(3)"
   ]
  },
  {
   "cell_type": "code",
   "execution_count": 77,
   "metadata": {},
   "outputs": [
    {
     "data": {
      "text/plain": [
       "0.001"
      ]
     },
     "execution_count": 77,
     "metadata": {},
     "output_type": "execute_result"
    }
   ],
   "source": [
    "# South-East Asia- Malaria percentage deaths\n",
    "permal = (select_rows['South-East Asia'].iloc[5] / select_rows['South-East Asia'].iloc[0])\n",
    "permal= permal * 100\n",
    "permal.round(3)"
   ]
  },
  {
   "cell_type": "code",
   "execution_count": 78,
   "metadata": {},
   "outputs": [
    {
     "data": {
      "text/plain": [
       "0.006"
      ]
     },
     "execution_count": 78,
     "metadata": {},
     "output_type": "execute_result"
    }
   ],
   "source": [
    "# South-East Asia- Tuberculosis percentage deaths\n",
    "pertb = (select_rows['South-East Asia'].iloc[6] / select_rows['South-East Asia'].iloc[0])\n",
    "pertb= pertb * 100\n",
    "pertb.round(3)"
   ]
  },
  {
   "cell_type": "code",
   "execution_count": 79,
   "metadata": {},
   "outputs": [
    {
     "data": {
      "text/plain": [
       "0.005"
      ]
     },
     "execution_count": 79,
     "metadata": {},
     "output_type": "execute_result"
    }
   ],
   "source": [
    "# South-East Asia- Trachea, bronchus, lung cancers percentage deaths\n",
    "pertblc = (select_rows['South-East Asia'].iloc[7] / select_rows['South-East Asia'].iloc[0])\n",
    "pertblc= pertblc * 100\n",
    "pertblc.round(3)"
   ]
  },
  {
   "cell_type": "code",
   "execution_count": 80,
   "metadata": {},
   "outputs": [
    {
     "data": {
      "text/plain": [
       "0.009"
      ]
     },
     "execution_count": 80,
     "metadata": {},
     "output_type": "execute_result"
    }
   ],
   "source": [
    "# South-East Asia- Other cancer percentage deaths\n",
    "perc = (select_rows['South-East Asia'].iloc[8] / select_rows['South-East Asia'].iloc[0])\n",
    "perc= perc * 100\n",
    "perc.round(3)"
   ]
  },
  {
   "cell_type": "code",
   "execution_count": 81,
   "metadata": {},
   "outputs": [
    {
     "data": {
      "text/plain": [
       "0.02"
      ]
     },
     "execution_count": 81,
     "metadata": {},
     "output_type": "execute_result"
    }
   ],
   "source": [
    "# South-East Asia- Stroke percentage deaths\n",
    "pers = (select_rows['South-East Asia'].iloc[9] / select_rows['South-East Asia'].iloc[0])\n",
    "pers= pers * 100\n",
    "pers.round(3)"
   ]
  },
  {
   "cell_type": "code",
   "execution_count": 82,
   "metadata": {},
   "outputs": [
    {
     "data": {
      "text/plain": [
       "0.006"
      ]
     },
     "execution_count": 82,
     "metadata": {},
     "output_type": "execute_result"
    }
   ],
   "source": [
    "# South-East Asia- Asthma percentage deaths\n",
    "pera = (select_rows['South-East Asia'].iloc[10] / select_rows['South-East Asia'].iloc[0])\n",
    "pera= pera * 100\n",
    "pera.round(3)"
   ]
  },
  {
   "cell_type": "code",
   "execution_count": 89,
   "metadata": {},
   "outputs": [
    {
     "data": {
      "text/plain": [
       "0.0002"
      ]
     },
     "execution_count": 89,
     "metadata": {},
     "output_type": "execute_result"
    }
   ],
   "source": [
    "# South-East Asia- Other respiratory diseases percentage deaths\n",
    "perr = (select_rows['South-East Asia'].iloc[11] / select_rows['South-East Asia'].iloc[0])\n",
    "perr= perr * 100\n",
    "perr.round(4)"
   ]
  },
  {
   "cell_type": "markdown",
   "metadata": {},
   "source": [
    "### Europe- disease related deaths as percentage of population"
   ]
  },
  {
   "cell_type": "code",
   "execution_count": 87,
   "metadata": {},
   "outputs": [
    {
     "data": {
      "text/plain": [
       "0.008"
      ]
     },
     "execution_count": 87,
     "metadata": {},
     "output_type": "execute_result"
    }
   ],
   "source": [
    "# Europe- lower respiratory infections percentage deaths\n",
    "per1 = (select_rows['Europe'].iloc[3] / select_rows['Europe'].iloc[0])\n",
    "per1 = per1 * 100\n",
    "per1.round(3)"
   ]
  },
  {
   "cell_type": "code",
   "execution_count": 88,
   "metadata": {},
   "outputs": [
    {
     "data": {
      "text/plain": [
       "0.0002"
      ]
     },
     "execution_count": 88,
     "metadata": {},
     "output_type": "execute_result"
    }
   ],
   "source": [
    "# Europe- Diarrhoeal diseases percentage deaths\n",
    "per2 = (select_rows['Europe'].iloc[4] / select_rows['Europe'].iloc[0])\n",
    "per2 = per2 * 100\n",
    "per2.round(4)"
   ]
  },
  {
   "cell_type": "code",
   "execution_count": 91,
   "metadata": {},
   "outputs": [
    {
     "data": {
      "text/plain": [
       "0.0"
      ]
     },
     "execution_count": 91,
     "metadata": {},
     "output_type": "execute_result"
    }
   ],
   "source": [
    "# Europe- Malaria percentage deaths\n",
    "per3 = (select_rows['Europe'].iloc[5] / select_rows['Europe'].iloc[0])\n",
    "per3 = per3 * 100\n",
    "per3.round(3)"
   ]
  },
  {
   "cell_type": "code",
   "execution_count": 94,
   "metadata": {},
   "outputs": [
    {
     "data": {
      "text/plain": [
       "0.0001"
      ]
     },
     "execution_count": 94,
     "metadata": {},
     "output_type": "execute_result"
    }
   ],
   "source": [
    "# Europe- Tuberculosis percentage deaths\n",
    "per4 = (select_rows['Europe'].iloc[6] / select_rows['Europe'].iloc[0])\n",
    "per4 = per4 * 100\n",
    "per4.round(4)"
   ]
  },
  {
   "cell_type": "code",
   "execution_count": 95,
   "metadata": {},
   "outputs": [
    {
     "data": {
      "text/plain": [
       "0.022"
      ]
     },
     "execution_count": 95,
     "metadata": {},
     "output_type": "execute_result"
    }
   ],
   "source": [
    "# Europe- Trachea, bronchus, lung cancers percentage deaths\n",
    "per5 = (select_rows['Europe'].iloc[7] / select_rows['Europe'].iloc[0])\n",
    "per5 = per5 * 100\n",
    "per5.round(3)"
   ]
  },
  {
   "cell_type": "code",
   "execution_count": 98,
   "metadata": {},
   "outputs": [
    {
     "data": {
      "text/plain": [
       "0.029"
      ]
     },
     "execution_count": 98,
     "metadata": {},
     "output_type": "execute_result"
    }
   ],
   "source": [
    "# Europe- Other cancers percentage deaths\n",
    "per6 = (select_rows['Europe'].iloc[8] / select_rows['Europe'].iloc[0])\n",
    "per6 = per6 * 100\n",
    "per6.round(3)"
   ]
  },
  {
   "cell_type": "code",
   "execution_count": 99,
   "metadata": {},
   "outputs": [
    {
     "data": {
      "text/plain": [
       "0.009"
      ]
     },
     "execution_count": 99,
     "metadata": {},
     "output_type": "execute_result"
    }
   ],
   "source": [
    "# Europe- Stroke percentage deaths\n",
    "per7 = (select_rows['Europe'].iloc[9] / select_rows['Europe'].iloc[0])\n",
    "per7 = per7 * 100\n",
    "per7.round(3)"
   ]
  },
  {
   "cell_type": "code",
   "execution_count": 100,
   "metadata": {},
   "outputs": [
    {
     "data": {
      "text/plain": [
       "0.001"
      ]
     },
     "execution_count": 100,
     "metadata": {},
     "output_type": "execute_result"
    }
   ],
   "source": [
    "# Europe- Asthma percentage deaths\n",
    "per8 = (select_rows['Europe'].iloc[10] / select_rows['Europe'].iloc[0])\n",
    "per8 = per8 * 100\n",
    "per8.round(3)"
   ]
  },
  {
   "cell_type": "code",
   "execution_count": 101,
   "metadata": {},
   "outputs": [
    {
     "data": {
      "text/plain": [
       "0.001"
      ]
     },
     "execution_count": 101,
     "metadata": {},
     "output_type": "execute_result"
    }
   ],
   "source": [
    "# Europe- Other respiratory diseases percentage deaths\n",
    "per9 = (select_rows['Europe'].iloc[11] / select_rows['Europe'].iloc[0])\n",
    "per9 = per9 * 100\n",
    "per9.round(3)"
   ]
  },
  {
   "cell_type": "markdown",
   "metadata": {},
   "source": [
    "# Data Visualisations"
   ]
  },
  {
   "cell_type": "code",
   "execution_count": 26,
   "metadata": {},
   "outputs": [
    {
     "data": {
      "text/plain": [
       "Text(0, 0.5, 'Number (billions)')"
      ]
     },
     "execution_count": 26,
     "metadata": {},
     "output_type": "execute_result"
    },
    {
     "data": {
      "image/png": "[encoded data removed]",
      "text/plain": [
       "<Figure size 432x288 with 1 Axes>"
      ]
     },
     "metadata": {
      "needs_background": "light"
     },
     "output_type": "display_data"
    }
   ],
   "source": [
    "# Plot South-East Asia population, total deaths, total environmental deaths\n",
    "sea1 = select_rows.iloc[0:3].plot.bar(y='South-East Asia', title='South-East Asia Population and Deaths', color='pink', edgecolor='black')\n",
    "sea1.set_xlabel(\"Information\")\n",
    "sea1.set_ylabel(\"Number (billions)\")"
   ]
  },
  {
   "cell_type": "code",
   "execution_count": 25,
   "metadata": {},
   "outputs": [
    {
     "data": {
      "text/plain": [
       "Text(0, 0.5, 'Number (billions)')"
      ]
     },
     "execution_count": 25,
     "metadata": {},
     "output_type": "execute_result"
    },
    {
     "data": {
      "image/png": "[encoded data removed]",
      "text/plain": [
       "<Figure size 432x288 with 1 Axes>"
      ]
     },
     "metadata": {
      "needs_background": "light"
     },
     "output_type": "display_data"
    }
   ],
   "source": [
    "# Plot Europe population, total deaths, total environmental deaths\n",
    "eur1 = select_rows.iloc[0:3].plot.bar(y='Europe', title='Europe Population and Deaths', color='orange', edgecolor='black')\n",
    "eur1.set_xlabel(\"Information\")\n",
    "eur1.set_ylabel(\"Number (billions)\")"
   ]
  },
  {
   "cell_type": "code",
   "execution_count": 24,
   "metadata": {},
   "outputs": [
    {
     "data": {
      "text/plain": [
       "Text(0, 0.5, 'Number of Deaths (thousands)')"
      ]
     },
     "execution_count": 24,
     "metadata": {},
     "output_type": "execute_result"
    },
    {
     "data": {
      "image/png": "[encoded data removed]",
      "text/plain": [
       "<Figure size 432x288 with 1 Axes>"
      ]
     },
     "metadata": {
      "needs_background": "light"
     },
     "output_type": "display_data"
    }
   ],
   "source": [
    "# Plot South-East Asia deaths under each disease\n",
    "sea2 = select_rows.iloc[3:12].plot.bar(y='South-East Asia', title='South-East Asia Disease-Related Deaths', color='pink', edgecolor='black')\n",
    "sea2.set_xlabel(\"Disease\")\n",
    "sea2.set_ylabel(\"Number of Deaths (thousands)\")"
   ]
  },
  {
   "cell_type": "code",
   "execution_count": 27,
   "metadata": {},
   "outputs": [
    {
     "data": {
      "text/plain": [
       "Text(0, 0.5, 'Number of Deaths (thousands)')"
      ]
     },
     "execution_count": 27,
     "metadata": {},
     "output_type": "execute_result"
    },
    {
     "data": {
      "image/png": "[encoded data removed]",
      "text/plain": [
       "<Figure size 432x288 with 1 Axes>"
      ]
     },
     "metadata": {
      "needs_background": "light"
     },
     "output_type": "display_data"
    }
   ],
   "source": [
    "# Plot Europe deaths under each disease\n",
    "eur2 = select_rows.iloc[3:12].plot.bar(y='Europe', title='Europe Disease-Related Deaths', color='orange', edgecolor='black')\n",
    "eur2.set_xlabel(\"Disease\")\n",
    "eur2.set_ylabel(\"Number of Deaths (thousands)\")"
   ]
  }
 ],
 "metadata": {
  "kernelspec": {
   "display_name": "Python 3",
   "language": "python",
   "name": "python3"
  },
  "language_info": {
   "codemirror_mode": {
    "name": "ipython",
    "version": 3
   },
   "file_extension": ".py",
   "mimetype": "text/x-python",
   "name": "python",
   "nbconvert_exporter": "python",
   "pygments_lexer": "ipython3",
   "version": "3.8.3"
  }
 },
 "nbformat": 4,
 "nbformat_minor": 4
}
